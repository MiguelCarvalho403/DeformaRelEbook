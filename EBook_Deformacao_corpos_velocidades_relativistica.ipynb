{
 "cells": [
  {
   "cell_type": "markdown",
   "id": "8c8bcc04-349a-4c91-988e-eeef3fb69c93",
   "metadata": {},
   "source": [
    "# CONSTRUINDO VISUALIZAÇÕES EM 3D DE DEFORMACÃO DE CORPOS EM VELOCIDADES RELATIVÍSTICAS"
   ]
  },
  {
   "cell_type": "markdown",
   "id": "e36b8c08-efd8-441d-8cd5-1c2dbb8833e5",
   "metadata": {},
   "source": [
    "**Miguel L. A. De Carvalho & Rogério T. Cavalcanti**"
   ]
  },
  {
   "cell_type": "markdown",
   "id": "feced5b1-a896-430b-91ba-8d491428b21b",
   "metadata": {},
   "source": [
    "[Octaedro movimento uniforme retilinio rotacionado](https://miguelcarvalho403.github.io/DeformaRelEbook/omurr.html) \\\n",
    "[Cubo movimento uniformemente acelerado rotacionado](https://miguelcarvalho403.github.io/DeformaRelEbook/cmuar.html) \\\n",
    "[Cubo movimento uniformemente acelerado sem rotação](https://miguelcarvalho403.github.io/DeformaRelEbook/cmuasr.html) \\\n",
    "[Exemplificação do algoritmo com cubo](https://miguelcarvalho403.github.io/DeformaRelEbook/obj_alg.html) \\\n",
    "[Octaedro em movimento uniformemente acelerado sem rotação](https://miguelcarvalho403.github.io/DeformaRelEbook/omuasr.html) \\\n",
    "[Exemplificação do algoritmo com vetor](https://miguelcarvalho403.github.io/DeformaRelEbook/vetor_alg.html) \\\n",
    "[Demontração da deformação](https://miguelcarvalho403.github.io/DeformaRelEbook/animation1.html) \\"
   ]
  }
 ],
 "metadata": {
  "kernelspec": {
   "display_name": "SageMath 9.5",
   "language": "sage",
   "name": "sagemath"
  },
  "language_info": {
   "codemirror_mode": {
    "name": "ipython",
    "version": 3
   },
   "file_extension": ".py",
   "mimetype": "text/x-python",
   "name": "python",
   "nbconvert_exporter": "python",
   "pygments_lexer": "ipython3",
   "version": "3.11.2"
  }
 },
 "nbformat": 4,
 "nbformat_minor": 5
}
